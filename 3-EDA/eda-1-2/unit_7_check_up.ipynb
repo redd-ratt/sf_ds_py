{
  "cells": [
    {
      "cell_type": "markdown",
      "metadata": {},
      "source": [
        "## Винные обзоры"
      ]
    },
    {
      "cell_type": "markdown",
      "metadata": {},
      "source": [
        "+ country - страна-производитель вина\n",
        "+ description - подробное описание\n",
        "+ designation - название виноградника, где выращивают виноград для вина\n",
        "+ points - количество баллов, которое WineEnthusiast оценил вино по шкале от 1 до 100\n",
        "+ price - стоимость бутылки вина\n",
        "+ province - провинция или штат \n",
        "+ region_1 - винодельческий район в провинции или штате (например, Напа)\n",
        "+ region_2 - конкретный регион. Иногда в пределах винодельческой зоны указываются более конкретные регионы (например, Резерфорд в долине Напа), но это значение иногда может быть пустым.\n",
        "+ taster_name - имя дегустатора\n",
        "+ taster_twitter_handle - твиттер дегустатора\n",
        "+ title - название вина, который часто содержит годи др подробную информацию\n",
        "+ variety -  сорт винограда, из которого изготовлено вино (например, Пино Нуар).\n",
        "+ winery - винодельня, которая производила вино"
      ]
    },
    {
      "cell_type": "code",
      "execution_count": null,
      "metadata": {},
      "outputs": [],
      "source": [
        "# импортируем необходимые пакеты\n",
        "\n",
        "import pandas as pd\n",
        "import seaborn as sns"
      ]
    },
    {
      "cell_type": "code",
      "execution_count": null,
      "metadata": {},
      "outputs": [],
      "source": [
        "df = pd.read_csv('wine.csv') # чтение данных"
      ]
    },
    {
      "cell_type": "markdown",
      "metadata": {},
      "source": [
        "### Задание 5.1"
      ]
    },
    {
      "cell_type": "markdown",
      "metadata": {},
      "source": [
        "Составьте чек-лист всех этапов жизненного цикла модели машинного обучения для создания ИИ-сомелье. \n",
        "Подробно раскройте процесс разведывательного анализа данных с подэтапами. \n"
      ]
    },
    {
      "cell_type": "markdown",
      "metadata": {},
      "source": [
        "* Определение бизнес-проблемы\n",
        "* Сбор данных\n",
        "* Очистка данных от пропусков/выбросов/аномалий\n",
        "* Разведывательный анализ данных\n",
        "    + проектирование признаков (генерация из внешних источников данных, из признаков датасета)\n",
        "    + кодирование признаков\n",
        "    + проверка статистических гипотез\n",
        "    + отбор признаков\n",
        "* Разработка модели\n",
        "* Вывод модели в продакшн\n"
      ]
    },
    {
      "cell_type": "markdown",
      "metadata": {},
      "source": [
        "### Задание 5.2"
      ]
    },
    {
      "cell_type": "markdown",
      "metadata": {},
      "source": [
        "Проанализируйте представленный датасет и перечислите все числовые признаки"
      ]
    },
    {
      "cell_type": "code",
      "execution_count": null,
      "metadata": {},
      "outputs": [],
      "source": [
        "df.nunique() # смотрим на кол-во уникальных признаков"
      ]
    },
    {
      "cell_type": "code",
      "execution_count": null,
      "metadata": {},
      "outputs": [],
      "source": [
        "df.info() # посмотрим на типы признаков. Претендента всего 2: points, price"
      ]
    },
    {
      "cell_type": "markdown",
      "metadata": {},
      "source": [
        "Смотрим на описание признаков и на распределение, чтобы точно убедиться, что они числовые:"
      ]
    },
    {
      "cell_type": "code",
      "execution_count": null,
      "metadata": {},
      "outputs": [],
      "source": [
        "# построим распеределение всех возможных признаков быстрой просто визуализацией\n",
        "hist = df.hist()\n",
        "hist"
      ]
    },
    {
      "cell_type": "markdown",
      "metadata": {},
      "source": [
        "Ответ: points, price"
      ]
    },
    {
      "cell_type": "markdown",
      "metadata": {},
      "source": [
        "### Задание 5.3"
      ]
    },
    {
      "cell_type": "markdown",
      "metadata": {},
      "source": [
        "Проанализируйте датасет на наличие дублирующихся винных обзоров. Если дублирующиеся записи есть, удалите их. \n",
        "В поле ниже введите, сколько дублирующихся записей вам удалось обнаружить. \n"
      ]
    },
    {
      "cell_type": "code",
      "execution_count": null,
      "metadata": {},
      "outputs": [],
      "source": [
        "mask = df.duplicated(subset=df.columns) # маска для фильтрации\n",
        "data_duplicates = df[mask] # фильтруем наш датасет\n",
        "print(f'Число найденных дубликатов: {data_duplicates.shape[0]}')\n",
        "df = df.drop_duplicates()"
      ]
    },
    {
      "cell_type": "markdown",
      "metadata": {},
      "source": [
        "### Задание 5.4"
      ]
    },
    {
      "cell_type": "markdown",
      "metadata": {},
      "source": [
        "Проверьте датасет на наличие пропусков в данных.\n",
        "В каких из представленных признаках были обнаружены пропуски?\n"
      ]
    },
    {
      "cell_type": "code",
      "execution_count": null,
      "metadata": {},
      "outputs": [],
      "source": [
        "df.info() # смотрим краткую информацию о наборе данных и даем ответ"
      ]
    },
    {
      "cell_type": "markdown",
      "metadata": {},
      "source": [
        "### Задание 5.5"
      ]
    },
    {
      "cell_type": "markdown",
      "metadata": {},
      "source": [
        "Обработайте пропущенные значения в наборе данных любым известным вам способом, который вы изучили в  PYTHON-14. Очистка данных:\n",
        "\n",
        "Воспользуйтесь правилами:\n",
        "    \n",
        "+ Если какой-то из признаков имеет более 30-40 % пропусков, лучше избавьтесь от него: его заполнение может привести к сильному искажению общего распределения, а удаление записей — к большой утрате данных.\n",
        "+ Заполняйте данные с умом! Если перед вами количественный признак, то использование нецелого числа в качестве константы является как минимум нелогичным.\n",
        "+ Вы можете оставить пропуски как есть, просто заменив их на какой-то специальный символ. Например, для числовых неотрицательных признаков можно использовать число -1, а для категориальных — строку 'unknown'.\n"
      ]
    },
    {
      "cell_type": "code",
      "execution_count": null,
      "metadata": {},
      "outputs": [],
      "source": [
        "sns.heatmap(df.isnull()) # наглядная карта пропусков"
      ]
    },
    {
      "cell_type": "code",
      "execution_count": null,
      "metadata": {},
      "outputs": [],
      "source": [
        "df = df.drop(['region_2'], axis=1) # имеет порядка 60% пропусков, лучше избавиться от такого признака"
      ]
    },
    {
      "cell_type": "code",
      "execution_count": null,
      "metadata": {},
      "outputs": [],
      "source": [
        "sns.heatmap(df.isnull()) # смотрим, какие признаки остались"
      ]
    },
    {
      "cell_type": "code",
      "execution_count": null,
      "metadata": {},
      "outputs": [],
      "source": [
        "df.head()"
      ]
    },
    {
      "cell_type": "code",
      "execution_count": null,
      "metadata": {},
      "outputs": [],
      "source": [
        "df.describe(include='all')"
      ]
    },
    {
      "cell_type": "code",
      "execution_count": null,
      "metadata": {},
      "outputs": [],
      "source": [
        "# обрабатываем пропуски в категориальных признаках самым простым вариантом, замена на unknown\n",
        "\n",
        "df['designation'] = df['designation'].fillna('unknown')\n",
        "df['region_1'] = df['region_1'].fillna('unknown')\n",
        "df['taster_name'] = df['taster_name'].fillna('unknown')\n",
        "df['taster_twitter_handle'] = df['taster_twitter_handle'].fillna('unknown')\n",
        "\n",
        "# признаки с маленьким количеством пропусков заменим на самые частовречающиеся значения\n",
        "df['country'] = df['country'].fillna('US')\n",
        "df['price'] = df['price'].fillna(df['price'].mean())\n",
        "df['province'] = df['province'].fillna('California')\n",
        "df['variety'] = df['variety'].fillna('Pinot Noir')"
      ]
    },
    {
      "cell_type": "code",
      "execution_count": null,
      "metadata": {},
      "outputs": [],
      "source": [
        "df.info()"
      ]
    },
    {
      "cell_type": "code",
      "execution_count": null,
      "metadata": {},
      "outputs": [],
      "source": [
        "# в числовом признаке выберем метод замены средним значением\n",
        "df['price'] = df['price'].fillna(df['price'].mean())"
      ]
    },
    {
      "cell_type": "code",
      "execution_count": null,
      "metadata": {},
      "outputs": [],
      "source": [
        "sns.heatmap(df.isnull()) # убеждаемся, что датасет без пропусков"
      ]
    },
    {
      "cell_type": "code",
      "execution_count": null,
      "metadata": {},
      "outputs": [],
      "source": [
        "df = df.to_csv('wine_cleared.csv', index=False) # сохраняем очищенный датасет для дальнейшей работы"
      ]
    }
  ],
  "metadata": {
    "kernelspec": {
      "display_name": "Python 3",
      "language": "python",
      "name": "python3"
    },
    "language_info": {
      "codemirror_mode": {
        "name": "ipython",
        "version": 3
      },
      "file_extension": ".py",
      "mimetype": "text/x-python",
      "name": "python",
      "nbconvert_exporter": "python",
      "pygments_lexer": "ipython3",
      "version": "3.11.1"
    },
    "nteract": {
      "version": "0.28.0"
    }
  },
  "nbformat": 4,
  "nbformat_minor": 2
}
