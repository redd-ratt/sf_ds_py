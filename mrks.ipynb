{
 "cells": [
  {
   "cell_type": "markdown",
   "metadata": {},
   "source": [
    "формулы\n",
    "$$a = b +c,$$\n",
    "\n",
    "где $a=0$"
   ]
  },
  {
   "cell_type": "markdown",
   "metadata": {},
   "source": [
    "греческие буквы\n",
    "\n",
    "$\\alpha$ </br>\n",
    "$\\gamma$ </br>\n",
    "$\\sigma$ "
   ]
  },
  {
   "cell_type": "markdown",
   "metadata": {},
   "source": [
    "Степени и индексы\n",
    "\n",
    "`$a^2$` = $a^2$ </br>\n",
    "`$b_{ij}$` = $b_{ij}$ </br>\n",
    "`$w^{ij}_n$` = $w^{ij}_n$"
   ]
  },
  {
   "cell_type": "markdown",
   "metadata": {},
   "source": [
    "Дробь\n",
    "\n",
    "`$\\frac{1+x}{n}$` — $\\frac{1+x}{n}$ "
   ]
  },
  {
   "cell_type": "markdown",
   "metadata": {},
   "source": [
    "https://en.wikibooks.org/wiki/LaTeX/Mathematics"
   ]
  }
 ],
 "metadata": {
  "language_info": {
   "name": "python"
  },
  "orig_nbformat": 4
 },
 "nbformat": 4,
 "nbformat_minor": 2
}
